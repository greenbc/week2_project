{
 "cells": [
  {
   "cell_type": "code",
   "execution_count": null,
   "metadata": {},
   "outputs": [
    {
     "name": "stdout",
     "output_type": "stream",
     "text": [
      "Parking available:\n",
      "[2, 3, 4, 5, 6, 7, 8, 9, 10]\n"
     ]
    }
   ],
   "source": [
    "from IPython.display import clear_output\n",
    "\n",
    "class ParkingGarage():\n",
    "\n",
    "    def __init__(self, tickets, parkingSpaces, currentTicket):\n",
    "        self.tickets = tickets\n",
    "        self.parkingSpaces = parkingSpaces\n",
    "        self.currentTicket = currentTicket\n",
    "\n",
    "    def takeTicket(self, ticketNum):\n",
    "        self.currentTicket[ticketNum] = ''\n",
    "        self.tickets.remove(ticketNum)\n",
    "        self.parkingSpaces.remove(ticketNum)\n",
    "\n",
    "    def payForParking(self, payTicket):\n",
    "        value = input(\"Please press any key to pay: \")\n",
    "        if value is not None:\n",
    "            self.currentTicket[int(payTicket)] = \"paid\"\n",
    "            print(\"Ticket has been paid and you may leave\")\n",
    "            \n",
    "    def leaveGarage(self, ticketNum):\n",
    "        if self.currentTicket[int(ticketNum)] == 'paid':\n",
    "            print(\"Thank you, have a nice day\")\n",
    "            self.tickets.append(int(ticketNum)) \n",
    "            self.parkingSpaces.append(int(ticketNum))\n",
    "            self.tickets.sort()\n",
    "            self.parkingSpaces.sort()\n",
    "        else:\n",
    "            print(\"Must pay first\")\n",
    "\n",
    "\n",
    "\n",
    "tickets = [1, 2, 3, 4, 5, 6, 7, 8, 9, 10]\n",
    "parkingSpaces = [1, 2, 3, 4, 5, 6, 7, 8, 9, 10]\n",
    "currentTicket = {}\n",
    "\n",
    "garage = ParkingGarage(tickets, parkingSpaces, currentTicket)\n",
    "\n",
    "def runGarage():\n",
    "    while True:\n",
    "        value = input(\"Would you like to park/pay or leave?: \")\n",
    "        if value == \"park\":\n",
    "            if tickets != []:\n",
    "                ticketNum = tickets[0]\n",
    "                garage.takeTicket(ticketNum)\n",
    "                clear_output()\n",
    "                print(\"Parking available:\")\n",
    "                print(tickets)\n",
    "            else:\n",
    "                clear_output()\n",
    "                print(\"No parking available\")\n",
    "        elif value == \"pay\":\n",
    "            clear_output ()\n",
    "            pay = input(\"What parking space would you like to pay for?: \")\n",
    "            garage.payForParking(pay)\n",
    "        elif value == \"leave\":\n",
    "            clear_output()\n",
    "            ticketNum = input(\"What is your ticket number?: \")\n",
    "            garage.leaveGarage(ticketNum)\n",
    "            print(\"Parking available: \")\n",
    "            print(tickets)\n",
    "        else:\n",
    "            clear_output()\n",
    "            print(\"Command not recognized\")\n",
    "\n",
    "runGarage() "
   ]
  },
  {
   "cell_type": "code",
   "execution_count": null,
   "metadata": {},
   "outputs": [],
   "source": []
  }
 ],
 "metadata": {
  "kernelspec": {
   "display_name": "Python 3",
   "language": "python",
   "name": "python3"
  },
  "language_info": {
   "codemirror_mode": {
    "name": "ipython",
    "version": 3
   },
   "file_extension": ".py",
   "mimetype": "text/x-python",
   "name": "python",
   "nbconvert_exporter": "python",
   "pygments_lexer": "ipython3",
   "version": "3.7.1"
  }
 },
 "nbformat": 4,
 "nbformat_minor": 2
}
